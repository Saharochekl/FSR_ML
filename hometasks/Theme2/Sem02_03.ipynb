{
  "cells": [
    {
      "cell_type": "markdown",
      "source": [
        "# Classification (Logistic Regression, LDA, QDA)\n"
      ],
      "metadata": {
        "id": "UgQ5A83mRKTx"
      },
      "id": "UgQ5A83mRKTx"
    },
    {
      "cell_type": "markdown",
      "source": [
        "Здравствуйте, на этом семинаре вы познакомитесь с задачей Классификации, Линейным и Квадратичным Дискриминантным Анализом (LDA & QDA), Логичестической регрессией, а так же познакомитесь с различными метрик классификации."
      ],
      "metadata": {
        "id": "ExRBQLOOPFrb"
      },
      "id": "ExRBQLOOPFrb"
    },
    {
      "cell_type": "code",
      "execution_count": null,
      "id": "7b2159a1",
      "metadata": {
        "id": "7b2159a1"
      },
      "outputs": [],
      "source": [
        "import numpy as np\n",
        "import pandas as pd\n",
        "import matplotlib.pyplot as plt"
      ]
    },
    {
      "cell_type": "markdown",
      "source": [
        "[Устройство ROC-curve и ROC AUC](https://alexanderdyakonov.wordpress.com/2017/07/28/auc-roc-%D0%BF%D0%BB%D0%BE%D1%89%D0%B0%D0%B4%D1%8C-%D0%BF%D0%BE%D0%B4-%D0%BA%D1%80%D0%B8%D0%B2%D0%BE%D0%B9-%D0%BE%D1%88%D0%B8%D0%B1%D0%BE%D0%BA/)\\\n",
        "[Построение многоклассового ROC-curve](https://scikit-learn.org/stable/auto_examples/model_selection/plot_roc.html#sphx-glr-auto-examples-model-selection-plot-roc-py)\\\n",
        "[Построение PR-curve](https://scikit-learn.org/stable/auto_examples/model_selection/plot_precision_recall.html)"
      ],
      "metadata": {
        "id": "juXTwrGdRS_w"
      },
      "id": "juXTwrGdRS_w"
    },
    {
      "cell_type": "markdown",
      "source": [
        "## Задача 1\n"
      ],
      "metadata": {
        "id": "Ce1B-p3Yxm4K"
      },
      "id": "Ce1B-p3Yxm4K"
    },
    {
      "cell_type": "markdown",
      "source": [
        "### Введение в LDA"
      ],
      "metadata": {
        "id": "zf7E6wyhJCGg"
      },
      "id": "zf7E6wyhJCGg"
    },
    {
      "cell_type": "markdown",
      "source": [
        "Для начала научимся применять [LDA](https://scikit-learn.org/stable/modules/generated/sklearn.discriminant_analysis.LinearDiscriminantAnalysis.html), подключим его"
      ],
      "metadata": {
        "id": "colKcXgoVgmQ"
      },
      "id": "colKcXgoVgmQ"
    },
    {
      "cell_type": "code",
      "source": [
        "from sklearn.discriminant_analysis import LinearDiscriminantAnalysis"
      ],
      "metadata": {
        "id": "EOmyy0s5xmVF"
      },
      "id": "EOmyy0s5xmVF",
      "execution_count": null,
      "outputs": []
    },
    {
      "cell_type": "markdown",
      "source": [
        "Сгенерируйте выборки $X_{0}\\sim\\mathcal{N}(\\mu_{0},\\Sigma_{0})$ объема $n_{0}=100$, где $\\Sigma_{0}=\\begin{pmatrix}2 & 0\\\\ 0 & 0.5\\end{pmatrix}, \\mu_{0}=(0,0)$ и $X_{1}\\sim\\mathcal{N}(\\mu_{1},\\Sigma_{1})$ объема $n_{1}=100$, где $\\Sigma_{1}=\\begin{pmatrix}0.5 & 0\\\\ 0 & 2\\end{pmatrix}, \\mu_{0}=(1,1)$, и изобразите их на плоскости. Попробуйте визуально разделить эти два класса"
      ],
      "metadata": {
        "id": "xAp_kNFE4zy3"
      },
      "id": "xAp_kNFE4zy3"
    },
    {
      "cell_type": "code",
      "source": [
        "#Your code here"
      ],
      "metadata": {
        "id": "-R7IlZIbApY4"
      },
      "id": "-R7IlZIbApY4",
      "execution_count": null,
      "outputs": []
    },
    {
      "cell_type": "markdown",
      "source": [
        "Объедините выборки в единый набор данных и разделите их на два класса, добавив столбец label. Примените классификатор LDA к этим выборкам и оцените качество классификации"
      ],
      "metadata": {
        "id": "i3TJvHNr6RmB"
      },
      "id": "i3TJvHNr6RmB"
    },
    {
      "cell_type": "code",
      "source": [
        "#Your code here\n",
        "clf = LinearDiscriminantAnalysis()\n",
        "#Your code here"
      ],
      "metadata": {
        "id": "TGk4G9kqBCP9"
      },
      "id": "TGk4G9kqBCP9",
      "execution_count": null,
      "outputs": []
    },
    {
      "cell_type": "markdown",
      "source": [
        "Так же, как и любая линейная модель, LDA строит разделяющую линейную поверхность вида $\\overline{\\omega}\\overline{X}+b=0$ (для 2х классов). Данная поверхность соответствует стандартному порогу $t=\\frac{1}{2}$. Подумайте, как меняется поверхность при выборе другого порога.\n"
      ],
      "metadata": {
        "id": "0WSwRueUhu18"
      },
      "id": "0WSwRueUhu18"
    },
    {
      "cell_type": "markdown",
      "source": [
        "Изобразите построенную LDA поверхность вручную с помощью полей *.coef_* и *.intercept_* класса LinearDiscriminantAnalysis, а так же с помощью встроенных методов [DecisionBoundaryDisplay](https://scikit-learn.org/stable/modules/generated/sklearn.inspection.DecisionBoundaryDisplay.html) или [plot_decision_region](https://rasbt.github.io/mlxtend/user_guide/plotting/plot_decision_regions/)"
      ],
      "metadata": {
        "id": "i_6Gr2gS3-KI"
      },
      "id": "i_6Gr2gS3-KI"
    },
    {
      "cell_type": "code",
      "source": [
        "#Your code here"
      ],
      "metadata": {
        "id": "N34qDAlH4Llg"
      },
      "id": "N34qDAlH4Llg",
      "execution_count": null,
      "outputs": []
    },
    {
      "cell_type": "markdown",
      "source": [
        "Используя обученные веса классификатора, постройте несколько разделяющих поверхностей при различных параметрах порога t"
      ],
      "metadata": {
        "id": "BdLxNbYD7Z_W"
      },
      "id": "BdLxNbYD7Z_W"
    },
    {
      "cell_type": "code",
      "source": [
        "#Your code here"
      ],
      "metadata": {
        "id": "DW49tun68DxY"
      },
      "id": "DW49tun68DxY",
      "execution_count": null,
      "outputs": []
    },
    {
      "cell_type": "markdown",
      "source": [
        "На сколько ваше предположение о виде прямой соответствует ответу LDA?"
      ],
      "metadata": {
        "id": "Ksy5Uzp2Iy4A"
      },
      "id": "Ksy5Uzp2Iy4A"
    },
    {
      "cell_type": "markdown",
      "source": [
        "Your answer here"
      ],
      "metadata": {
        "id": "NZj-S2GmI1Wr"
      },
      "id": "NZj-S2GmI1Wr"
    },
    {
      "cell_type": "markdown",
      "source": [
        "### Метрики"
      ],
      "metadata": {
        "id": "iOYPr4yz8YGr"
      },
      "id": "iOYPr4yz8YGr"
    },
    {
      "cell_type": "markdown",
      "source": [
        "Посчитайте вручную значение метрик [Accuracy](https://scikit-learn.org/stable/modules/generated/sklearn.metrics.accuracy_score.html), [Recall](https://scikit-learn.org/stable/modules/generated/sklearn.metrics.recall_score.html), [Precision](https://scikit-learn.org/stable/modules/generated/sklearn.metrics.precision_score.html), [F1](https://scikit-learn.org/stable/modules/generated/sklearn.metrics.f1_score.html) (для порога $t=\\dfrac{1}{2}$), а затем сравните со встроенными функциями sklearn"
      ],
      "metadata": {
        "id": "b55KD51F8e5M"
      },
      "id": "b55KD51F8e5M"
    },
    {
      "cell_type": "code",
      "source": [
        "#Your code here"
      ],
      "metadata": {
        "id": "1h7CIhW381nt"
      },
      "id": "1h7CIhW381nt",
      "execution_count": null,
      "outputs": []
    },
    {
      "cell_type": "markdown",
      "source": [
        "Постройте [ROC-curve](https://scikit-learn.org/stable/modules/generated/sklearn.metrics.roc_curve.html) и [PR-curve](https://scikit-learn.org/stable/modules/generated/sklearn.metrics.precision_recall_curve.html) и посчитайте [площади](https://scikit-learn.org/stable/modules/generated/sklearn.metrics.auc.html) под эти кривыми\n"
      ],
      "metadata": {
        "id": "Byhllsco800n"
      },
      "id": "Byhllsco800n"
    },
    {
      "cell_type": "code",
      "source": [
        "#Your code here"
      ],
      "metadata": {
        "id": "lvtPJ4lc9Xel"
      },
      "id": "lvtPJ4lc9Xel",
      "execution_count": null,
      "outputs": []
    },
    {
      "cell_type": "markdown",
      "source": [
        "Что вы можете сказать о качестве классификации модели LDA?"
      ],
      "metadata": {
        "id": "TxXzNqHN9ash"
      },
      "id": "TxXzNqHN9ash"
    },
    {
      "cell_type": "markdown",
      "source": [
        "Your answer here"
      ],
      "metadata": {
        "id": "6oXBREE6QvTu"
      },
      "id": "6oXBREE6QvTu"
    },
    {
      "cell_type": "markdown",
      "source": [
        "## Задача 2"
      ],
      "metadata": {
        "id": "mkHwoEoC9ySP"
      },
      "id": "mkHwoEoC9ySP"
    },
    {
      "cell_type": "markdown",
      "source": [
        "Теперь научимся применять [QDA](https://scikit-learn.org/stable/modules/generated/sklearn.discriminant_analysis.QuadraticDiscriminantAnalysis.html)"
      ],
      "metadata": {
        "id": "PbIMxSlTUmep"
      },
      "id": "PbIMxSlTUmep"
    },
    {
      "cell_type": "code",
      "source": [
        "from sklearn.discriminant_analysis import QuadraticDiscriminantAnalysis"
      ],
      "metadata": {
        "id": "SyZowFMDUls_"
      },
      "id": "SyZowFMDUls_",
      "execution_count": null,
      "outputs": []
    },
    {
      "cell_type": "markdown",
      "source": [
        "Примените QDA к данным из первой задачи, оцените качество модели, сравните с LDA"
      ],
      "metadata": {
        "id": "rKJtjlDmVBBd"
      },
      "id": "rKJtjlDmVBBd"
    },
    {
      "cell_type": "code",
      "source": [
        "#Your code here\n",
        "clf = QuadraticDiscriminantAnalysis()\n",
        "#Your code here"
      ],
      "metadata": {
        "id": "77w6aFWfVBeR"
      },
      "id": "77w6aFWfVBeR",
      "execution_count": null,
      "outputs": []
    },
    {
      "cell_type": "markdown",
      "source": [
        "Сделайте дисбаланс классов в первой задаче $n_{0}=25,n_{1}=250$"
      ],
      "metadata": {
        "id": "IRXWg7gn91BC"
      },
      "id": "IRXWg7gn91BC"
    },
    {
      "cell_type": "code",
      "source": [
        "#Your code here"
      ],
      "metadata": {
        "id": "DzvwSiZd_uOo"
      },
      "id": "DzvwSiZd_uOo",
      "execution_count": null,
      "outputs": []
    },
    {
      "cell_type": "markdown",
      "source": [
        "Примените LDA и QDA. Постройте разделяющие поверхности.\n",
        "Посчитайте метрики классификации и сравните две модели"
      ],
      "metadata": {
        "id": "h3vBFw2tWF-b"
      },
      "id": "h3vBFw2tWF-b"
    },
    {
      "cell_type": "markdown",
      "source": [
        "Какие метрики оказались информативными?"
      ],
      "metadata": {
        "id": "hVeF10NXXvYK"
      },
      "id": "hVeF10NXXvYK"
    },
    {
      "cell_type": "markdown",
      "source": [
        "Your answer here"
      ],
      "metadata": {
        "id": "xNqO_19ZXyl6"
      },
      "id": "xNqO_19ZXyl6"
    },
    {
      "cell_type": "code",
      "source": [
        "#Your code here"
      ],
      "metadata": {
        "id": "2CBfdvZDWXvY"
      },
      "id": "2CBfdvZDWXvY",
      "execution_count": null,
      "outputs": []
    },
    {
      "cell_type": "markdown",
      "source": [
        "Сравните визуально ROC-curve и PR-curve этих классификаторов. На PR-curve отметьте точку с наилучшей F1 мерой."
      ],
      "metadata": {
        "id": "WeVIDvmh_tZh"
      },
      "id": "WeVIDvmh_tZh"
    },
    {
      "cell_type": "code",
      "source": [
        "#Your code here"
      ],
      "metadata": {
        "id": "H5BXIEb6_7Gj"
      },
      "id": "H5BXIEb6_7Gj",
      "execution_count": null,
      "outputs": []
    },
    {
      "cell_type": "markdown",
      "source": [
        "Посчитайте и сравните ROC AUC и PR AUC для LDA и QDA."
      ],
      "metadata": {
        "id": "W6U3y7p4_7_X"
      },
      "id": "W6U3y7p4_7_X"
    },
    {
      "cell_type": "code",
      "source": [
        "#Your code here"
      ],
      "metadata": {
        "id": "Rgu_fODv_07v"
      },
      "id": "Rgu_fODv_07v",
      "execution_count": null,
      "outputs": []
    },
    {
      "cell_type": "markdown",
      "source": [
        "Какой из классификаторов справился лучше? Подумайте, почему так"
      ],
      "metadata": {
        "id": "A7XhvsHSWr7t"
      },
      "id": "A7XhvsHSWr7t"
    },
    {
      "cell_type": "markdown",
      "source": [
        "Your answer here"
      ],
      "metadata": {
        "id": "flym6bSMWsfs"
      },
      "id": "flym6bSMWsfs"
    },
    {
      "cell_type": "markdown",
      "id": "d7c25c52",
      "metadata": {
        "id": "d7c25c52"
      },
      "source": [
        "## Задача 3"
      ]
    },
    {
      "cell_type": "markdown",
      "id": "c8ac7309",
      "metadata": {
        "id": "c8ac7309"
      },
      "source": [
        "Для начала давайте познакомимся с [логистической регрессией](https://scikit-learn.org/stable/modules/generated/sklearn.linear_model.LogisticRegression.html), подключим её из библиотеки"
      ]
    },
    {
      "cell_type": "code",
      "execution_count": null,
      "id": "55e1ad83",
      "metadata": {
        "id": "55e1ad83"
      },
      "outputs": [],
      "source": [
        "from sklearn.linear_model import LogisticRegression"
      ]
    },
    {
      "cell_type": "markdown",
      "id": "38e135b8",
      "metadata": {
        "id": "38e135b8"
      },
      "source": [
        "Теперь сгенерируем два нормальных распределения и попробуем разделить их"
      ]
    },
    {
      "cell_type": "code",
      "execution_count": null,
      "id": "0eaa1191",
      "metadata": {
        "id": "0eaa1191",
        "outputId": "c43e26ab-e0fb-42ba-f62e-a800f3da0d13"
      },
      "outputs": [
        {
          "data": {
            "image/png": "[encoded data removed]",
            "text/plain": [
              "<Figure size 640x480 with 1 Axes>"
            ]
          },
          "metadata": {},
          "output_type": "display_data"
        }
      ],
      "source": [
        "df = pd.DataFrame()\n",
        "X1 = np.random.normal(0, 0.2, (100, 2))\n",
        "X2 = np.random.normal(0.5, 0.2, (100, 2))\n",
        "df[\"x\"] = np.hstack([X1[:, 0], X2[:, 0]])\n",
        "df[\"y\"] = np.hstack([X1[:, 1], X2[:, 1]])\n",
        "df[\"label\"] = np.hstack([np.zeros(100), np.ones(100)])\n",
        "plt.scatter(df[df[\"label\"] == 0][\"x\"], df[df[\"label\"] == 0][\"y\"], label=\"class 1\")\n",
        "plt.scatter(df[df[\"label\"] == 1][\"x\"], df[df[\"label\"] == 1][\"y\"], label=\"class 2\")\n",
        "plt.legend()\n",
        "plt.show()"
      ]
    },
    {
      "cell_type": "markdown",
      "id": "48fc0c7e",
      "metadata": {
        "id": "48fc0c7e"
      },
      "source": [
        "Создадим классификатор,обучим его и посмотрим на качество классификации"
      ]
    },
    {
      "cell_type": "code",
      "execution_count": null,
      "id": "58a56df5",
      "metadata": {
        "id": "58a56df5",
        "outputId": "c33a69f5-e3e3-48dc-807e-5d9e96f29ad8"
      },
      "outputs": [
        {
          "name": "stdout",
          "output_type": "stream",
          "text": [
            "accuracy: 0.96\n"
          ]
        }
      ],
      "source": [
        "log_reg = LogisticRegression()\n",
        "log_reg.fit(df[['x', 'y']], df['label'])\n",
        "print(\"accuracy:\", log_reg.score(df[['x', 'y']], df['label']))"
      ]
    },
    {
      "cell_type": "markdown",
      "id": "f6d9a1d4",
      "metadata": {
        "id": "f6d9a1d4"
      },
      "source": [
        "Как и LDA, логистическая регрессия строит рязделяющую прямую, её коэффициенты можно получить из модели с помощью полей *.coef_* и *.intercept_*"
      ]
    },
    {
      "cell_type": "markdown",
      "id": "06107292",
      "metadata": {
        "id": "06107292"
      },
      "source": [
        "Теперь постройте на исходных данных разделяющую прямую"
      ]
    },
    {
      "cell_type": "code",
      "execution_count": null,
      "id": "7c8cd351",
      "metadata": {
        "id": "7c8cd351"
      },
      "outputs": [],
      "source": [
        "#Your code here"
      ]
    },
    {
      "cell_type": "markdown",
      "id": "4885770b",
      "metadata": {
        "id": "4885770b"
      },
      "source": [
        "Аналогично линейной, логистическая регрессия может использовать регуляризацию при построении разделяющей прямой, за это отвечает параметр *penalty*, величину штрафа регулирует параметр *С*. Подробнее об этом можно посмотреть в [документаци](https://scikit-learn.org/stable/modules/generated/sklearn.linear_model.LogisticRegression.html)"
      ]
    },
    {
      "cell_type": "markdown",
      "id": "1e5cd5e2",
      "metadata": {
        "id": "1e5cd5e2"
      },
      "source": [
        "Используйте L1, L2 и ElasticNet регуляризацию, попробуйте разные значения параметра *C*, изобразите на одном рисунке исходные данные и все четыре разделющие прямые: с и без регуляризации"
      ]
    },
    {
      "cell_type": "code",
      "execution_count": null,
      "id": "51dd0dea",
      "metadata": {
        "id": "51dd0dea"
      },
      "outputs": [],
      "source": [
        "#Your code here"
      ]
    },
    {
      "cell_type": "markdown",
      "source": [
        "В каком случае получается наилучшее разделение?"
      ],
      "metadata": {
        "id": "KImH2kFPZWMQ"
      },
      "id": "KImH2kFPZWMQ"
    },
    {
      "cell_type": "markdown",
      "source": [
        "Your answer here"
      ],
      "metadata": {
        "id": "uo7ediPVZV8B"
      },
      "id": "uo7ediPVZV8B"
    },
    {
      "cell_type": "markdown",
      "id": "b5fb4d63",
      "metadata": {
        "id": "b5fb4d63"
      },
      "source": [
        "### Сравнение Логистической регрессии, LDA и QDA"
      ]
    },
    {
      "cell_type": "markdown",
      "id": "9e1682da",
      "metadata": {
        "id": "9e1682da"
      },
      "source": [
        "Смоделируйте для двух классов размера 100 из распределений в $\\mathbb{R}^2$: $(X_i, Y_i)$, $X_i ∼ 𝑅[−1, 1]$, $Y_i = X_i + Z_i$, где $Z_i ∼ Laplace(-1, 0.5)$ для первого класса и $Z_i ∼ Laplace(1, 0.5)$ для второго"
      ]
    },
    {
      "cell_type": "code",
      "execution_count": null,
      "id": "70f3e7ef",
      "metadata": {
        "id": "70f3e7ef"
      },
      "outputs": [],
      "source": [
        "#Your code here"
      ]
    },
    {
      "cell_type": "markdown",
      "id": "8a06c419",
      "metadata": {
        "id": "8a06c419"
      },
      "source": [
        "Запустите [логистический классификатор](https://scikit-learn.org/stable/modules/generated/sklearn.linear_model.LogisticRegression.html), [LDA](https://scikit-learn.org/stable/modules/generated/sklearn.discriminant_analysis.LinearDiscriminantAnalysis.html) и [QDA](https://scikit-learn.org/stable/modules/generated/sklearn.discriminant_analysis.QuadraticDiscriminantAnalysis.html)"
      ]
    },
    {
      "cell_type": "code",
      "execution_count": null,
      "id": "6a53832d",
      "metadata": {
        "id": "6a53832d"
      },
      "outputs": [],
      "source": [
        "#Your code here"
      ]
    },
    {
      "cell_type": "markdown",
      "id": "cd3fcd71",
      "metadata": {
        "id": "cd3fcd71"
      },
      "source": [
        "Изобразите три [ROC–кривые](https://scikit-learn.org/stable/modules/generated/sklearn.metrics.roc_curve.html) и три [PR–кривые](https://scikit-learn.org/stable/modules/generated/sklearn.metrics.precision_recall_curve.html)"
      ]
    },
    {
      "cell_type": "code",
      "execution_count": null,
      "id": "05b83197",
      "metadata": {
        "id": "05b83197"
      },
      "outputs": [],
      "source": [
        "#Your code here"
      ]
    },
    {
      "cell_type": "markdown",
      "id": "a185faed",
      "metadata": {
        "id": "a185faed"
      },
      "source": [
        "Выберите значения 𝑡 для каждого из трех классификаторов, оптимизируя [𝐹1–меру](https://scikit-learn.org/stable/modules/generated/sklearn.metrics.f1_score.html)"
      ]
    },
    {
      "cell_type": "code",
      "execution_count": null,
      "id": "f65f7f3d",
      "metadata": {
        "id": "f65f7f3d"
      },
      "outputs": [],
      "source": [
        "#Your code here"
      ]
    },
    {
      "cell_type": "markdown",
      "id": "2a5c021c",
      "metadata": {
        "id": "2a5c021c"
      },
      "source": [
        "Нарисуйте облака точек на плоскости и три разделяющие кривые"
      ]
    },
    {
      "cell_type": "code",
      "execution_count": null,
      "id": "7fb17429",
      "metadata": {
        "id": "7fb17429"
      },
      "outputs": [],
      "source": [
        "#Your code here"
      ]
    },
    {
      "cell_type": "markdown",
      "id": "c0f8205a",
      "metadata": {
        "id": "c0f8205a"
      },
      "source": [
        "Какой из классификаторов справился лучше и почему?"
      ]
    },
    {
      "cell_type": "markdown",
      "source": [
        "Your answer here"
      ],
      "metadata": {
        "id": "DrIdCkXxaKBz"
      },
      "id": "DrIdCkXxaKBz"
    },
    {
      "cell_type": "markdown",
      "id": "34cd8d96",
      "metadata": {
        "id": "34cd8d96"
      },
      "source": [
        "## Задача 4"
      ]
    },
    {
      "cell_type": "markdown",
      "id": "7b8e21e7",
      "metadata": {
        "id": "7b8e21e7"
      },
      "source": [
        "Загрузите данные из файла mroz.txt (описания переменных приведены в файле mroz.des)\n",
        "\n",
        "Ваша задача — определить по данным женщины, работает ли она или нет (переменная inlf, равная $1$, если работает).\n",
        "\n",
        "`Не используйте` переменные hours (количество рабочих часов — переменная равна нулю для неработающих), wage (заработок женщины), repwage (ответ на вопрос о величине дохода женщины) и lwage (логарифм переменной wage).\n",
        "\n",
        "Разбейте выборку на [train, validation и test sets](https://scikit-learn.org/stable/modules/generated/sklearn.model_selection.train_test_split.html). Разные классификаторы сравнивайте на validation set. Классификатор, выбранный вами наилучшим, тестируйте на test set."
      ]
    },
    {
      "cell_type": "code",
      "execution_count": null,
      "id": "ca61f4cb",
      "metadata": {
        "id": "ca61f4cb"
      },
      "outputs": [],
      "source": [
        "#Your code here"
      ]
    }
  ],
  "metadata": {
    "kernelspec": {
      "display_name": "Python 3",
      "language": "python",
      "name": "python3"
    },
    "language_info": {
      "codemirror_mode": {
        "name": "ipython",
        "version": 3
      },
      "file_extension": ".py",
      "mimetype": "text/x-python",
      "name": "python",
      "nbconvert_exporter": "python",
      "pygments_lexer": "ipython3",
      "version": "3.12.8"
    },
    "colab": {
      "provenance": []
    }
  },
  "nbformat": 4,
  "nbformat_minor": 5
}