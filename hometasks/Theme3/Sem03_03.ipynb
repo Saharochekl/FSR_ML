{
  "cells": [
    {
      "cell_type": "markdown",
      "id": "UgQ5A83mRKTx",
      "metadata": {
        "id": "UgQ5A83mRKTx"
      },
      "source": [
        "# Clustering (KMeans, DBSCAN, OPTICS, Spectral Clustering, Hierarchical Clustering)"
      ]
    },
    {
      "cell_type": "markdown",
      "source": [
        "**Исполнители (ФИО):** Your answer here\n",
        "\n",
        "---\n",
        "\n"
      ],
      "metadata": {
        "id": "hhcmW54cZJlb"
      },
      "id": "hhcmW54cZJlb"
    },
    {
      "cell_type": "markdown",
      "id": "ExRBQLOOPFrb",
      "metadata": {
        "id": "ExRBQLOOPFrb"
      },
      "source": [
        "Здравствуйте, на этом семинаре вы познакомитесь с задачей Кластеризации, методами К-средних, DBSCAN, его модификацией OPTICS, Спектральной кластеризацией, Иерархической кластеризацией, а так же с различными метриками качества кластеризации"
      ]
    },
    {
      "cell_type": "code",
      "source": [
        "import numpy as np\n",
        "import pandas as pd\n",
        "import matplotlib.pyplot as plt"
      ],
      "metadata": {
        "id": "1bEoszZInPMQ"
      },
      "id": "1bEoszZInPMQ",
      "execution_count": 1,
      "outputs": []
    },
    {
      "cell_type": "markdown",
      "id": "juXTwrGdRS_w",
      "metadata": {
        "id": "juXTwrGdRS_w"
      },
      "source": [
        "[Метрики качества кластеризации](https://www.geeksforgeeks.org/machine-learning/clustering-metrics/)\n",
        "\n",
        "[Сравнение методов кластеризаций](https://scikit-learn.org/stable/auto_examples/cluster/plot_cluster_comparison.html)\n",
        "\n",
        "[Иерархическая кластеризация](https://www.geeksforgeeks.org/machine-learning/hierarchical-clustering-with-scikit-learn/)"
      ]
    },
    {
      "cell_type": "markdown",
      "id": "Ce1B-p3Yxm4K",
      "metadata": {
        "id": "Ce1B-p3Yxm4K"
      },
      "source": [
        "## Задача 1\n"
      ]
    },
    {
      "cell_type": "markdown",
      "id": "6fce7c44-8e6e-4569-8465-68c791efefbb",
      "metadata": {
        "id": "6fce7c44-8e6e-4569-8465-68c791efefbb"
      },
      "source": [
        "### Введение в Кластеризацию"
      ]
    },
    {
      "cell_type": "markdown",
      "source": [
        "Для начала познакомимся с методом К-средних. Этот метод основан на предположении, что кластеры имеют сферическую структуру (куча). Создайте две непересекающиеся кучи и примените к ним метод [KMeans](https://scikit-learn.org/stable/modules/generated/sklearn.cluster.KMeans.html), визуализируйте результаты\n"
      ],
      "metadata": {
        "id": "TTHjMx_9tVAF"
      },
      "id": "TTHjMx_9tVAF"
    },
    {
      "cell_type": "code",
      "execution_count": null,
      "id": "b0373e48-04fe-4de7-91fa-9cb5710bbc24",
      "metadata": {
        "id": "b0373e48-04fe-4de7-91fa-9cb5710bbc24"
      },
      "outputs": [],
      "source": [
        "#Your code here"
      ]
    },
    {
      "cell_type": "markdown",
      "source": [
        "Однако, с данными, которые устроены более сложным образом, например, ленточные кластеры, KMeans работает хуже.\n",
        "\n",
        "Создайте две смещенные параболы вида $X_{1}\\sim R[-1.4, 0.6], X_{2}\\sim R[-0.6, 1.4], Y_{1}\\sim X_{1}^{2} - 0.6 + Z_{1}, Y_{1}\\sim X_{2}^{2} + 0.6 + Z_{2}$, где $Z_{i}\\sim \\mathcal{N}(0, 0.4)$ и примените этот метод к ним, визуализируйте результат"
      ],
      "metadata": {
        "id": "Lf8KhydVyfy4"
      },
      "id": "Lf8KhydVyfy4"
    },
    {
      "cell_type": "code",
      "source": [
        "#Your code here"
      ],
      "metadata": {
        "id": "ylSkjSn-y_tU"
      },
      "id": "ylSkjSn-y_tU",
      "execution_count": null,
      "outputs": []
    },
    {
      "cell_type": "markdown",
      "id": "061e0fe6-c3ce-4428-bb21-57ee5e8c8c2a",
      "metadata": {
        "id": "061e0fe6-c3ce-4428-bb21-57ee5e8c8c2a"
      },
      "source": [
        "Метод [Spectral Clustering](https://scikit-learn.org/stable/modules/generated/sklearn.cluster.SpectralClustering.html) позволяет работать со сложными структурами за счёт преобразования данным с помощью нелинейного ядра. Теперь примените этот метод к параболам, визуализируйте результаты"
      ]
    },
    {
      "cell_type": "code",
      "execution_count": null,
      "id": "4eaf55d7-bd43-4788-af13-9a761a5d6239",
      "metadata": {
        "id": "4eaf55d7-bd43-4788-af13-9a761a5d6239"
      },
      "outputs": [],
      "source": [
        "#Your code here"
      ]
    },
    {
      "cell_type": "markdown",
      "id": "c74f817b-606c-4da1-8c66-82775aa0df70",
      "metadata": {
        "id": "c74f817b-606c-4da1-8c66-82775aa0df70"
      },
      "source": [
        "**Вопрос:** Почему данные кластеризовались именно так в этих методах? Обоснуйте свой ответ"
      ]
    },
    {
      "cell_type": "markdown",
      "id": "3ab4bb58-4070-43cb-a879-d3fa85afccb2",
      "metadata": {
        "id": "3ab4bb58-4070-43cb-a879-d3fa85afccb2"
      },
      "source": [
        "*Your answer here*"
      ]
    },
    {
      "cell_type": "markdown",
      "id": "mqyFzlST7QKg",
      "metadata": {
        "id": "mqyFzlST7QKg"
      },
      "source": [
        "Теперь возьмите данные из файла Aggregation.txt. Используя в качестве фичей первые два столбца, визуализируйте данные и сделайте предположение об оптимальном количестве кластеров"
      ]
    },
    {
      "cell_type": "code",
      "execution_count": null,
      "id": "MgE3npO04tYj",
      "metadata": {
        "id": "MgE3npO04tYj",
        "scrolled": true
      },
      "outputs": [],
      "source": [
        "#Your code here"
      ]
    },
    {
      "cell_type": "markdown",
      "source": [
        "Раскрасьте данные, используя третий столбец"
      ],
      "metadata": {
        "id": "ou-tPBfKSavT"
      },
      "id": "ou-tPBfKSavT"
    },
    {
      "cell_type": "code",
      "source": [
        "#Your code here"
      ],
      "metadata": {
        "id": "swnkbJw-SlKk"
      },
      "id": "swnkbJw-SlKk",
      "execution_count": null,
      "outputs": []
    },
    {
      "cell_type": "markdown",
      "source": [
        "**Вопрос:** совпадает ли это с вашей гипотезой?"
      ],
      "metadata": {
        "id": "5aXPbUf3Sd6z"
      },
      "id": "5aXPbUf3Sd6z"
    },
    {
      "cell_type": "markdown",
      "source": [
        "*Your answer here*"
      ],
      "metadata": {
        "id": "_guqIBZ7Smyp"
      },
      "id": "_guqIBZ7Smyp"
    },
    {
      "cell_type": "markdown",
      "id": "596f43d7-f71e-4fa1-aabd-16a485d3b55b",
      "metadata": {
        "id": "596f43d7-f71e-4fa1-aabd-16a485d3b55b"
      },
      "source": [
        "Примените к этим данным алгоритмы Kmeans и Spectral Clustering. Попробуйте разное количество кластеров $k=3,5,7,10$ Визуализируйте результат работы алгоритмов"
      ]
    },
    {
      "cell_type": "code",
      "execution_count": null,
      "id": "d64a64dc-e6ee-4a05-8cd2-a12c6ce4cac0",
      "metadata": {
        "id": "d64a64dc-e6ee-4a05-8cd2-a12c6ce4cac0"
      },
      "outputs": [],
      "source": [
        "#Your code here"
      ]
    },
    {
      "cell_type": "markdown",
      "source": [
        "Проверьте результат кластеризации с помощью метрики [NMI](https://scikit-learn.org/stable/modules/generated/sklearn.metrics.normalized_mutual_info_score.html)"
      ],
      "metadata": {
        "id": "-XUgF0yX1TTL"
      },
      "id": "-XUgF0yX1TTL"
    },
    {
      "cell_type": "code",
      "source": [
        "#Your code here"
      ],
      "metadata": {
        "id": "S7SUY38_1y9K"
      },
      "id": "S7SUY38_1y9K",
      "execution_count": null,
      "outputs": []
    },
    {
      "cell_type": "markdown",
      "id": "ylWI0_UK-YZk",
      "metadata": {
        "id": "ylWI0_UK-YZk"
      },
      "source": [
        "**Вопрос:** Предположите, почему данные кластеризовались таким образом? Какой из алгоритмов дал лучший результат?"
      ]
    },
    {
      "cell_type": "markdown",
      "id": "e4dfa99d-4efb-4ec6-a8ec-325765799260",
      "metadata": {
        "id": "e4dfa99d-4efb-4ec6-a8ec-325765799260"
      },
      "source": [
        "*Your answer here*"
      ]
    },
    {
      "cell_type": "markdown",
      "id": "mkHwoEoC9ySP",
      "metadata": {
        "id": "mkHwoEoC9ySP"
      },
      "source": [
        "## Задача 2"
      ]
    },
    {
      "cell_type": "markdown",
      "id": "3b296702-c158-4628-80ef-8fe80a10d3f8",
      "metadata": {
        "id": "3b296702-c158-4628-80ef-8fe80a10d3f8"
      },
      "source": [
        "### DBSCAN, OPTICS"
      ]
    },
    {
      "cell_type": "markdown",
      "id": "c08beceb-5e4b-4c46-b985-e8baea2889eb",
      "metadata": {
        "id": "c08beceb-5e4b-4c46-b985-e8baea2889eb"
      },
      "source": [
        "Теперь познакомимся c другим метрическим алгоритмом DBSCAN и его улучшением OPTICS. Эти методы основаны на предположении, что плотность данных внутри кластера больше, чем плотность данных между кластерами. Такое предположение используется алгоритмом для определения оптимального числа кластеров"
      ]
    },
    {
      "cell_type": "markdown",
      "source": [
        "Создайте три нормальные кучи разной степени разреженности и примените к ним метод [DBSCAN](https://scikit-learn.org/stable/modules/generated/sklearn.cluster.DBSCAN.html)"
      ],
      "metadata": {
        "id": "x7POzmE92wgF"
      },
      "id": "x7POzmE92wgF"
    },
    {
      "cell_type": "code",
      "execution_count": null,
      "id": "c1b9f593-79e5-45e7-8ea0-f549bdf52a07",
      "metadata": {
        "id": "c1b9f593-79e5-45e7-8ea0-f549bdf52a07"
      },
      "outputs": [],
      "source": [
        "#Your code here"
      ]
    },
    {
      "cell_type": "markdown",
      "source": [
        "**Вопрос**: Много ли получилось некластеризованных точек (outliers)?"
      ],
      "metadata": {
        "id": "Mbi4Mh8-TMTd"
      },
      "id": "Mbi4Mh8-TMTd"
    },
    {
      "cell_type": "markdown",
      "source": [
        "*Your answer here*"
      ],
      "metadata": {
        "id": "tPHNjfIbT2Ij"
      },
      "id": "tPHNjfIbT2Ij"
    },
    {
      "cell_type": "markdown",
      "source": [
        "Алгоритм DBSCAN имеет два параметра *eps* - радиус поиска, и *min_samples* - необходимое количество точек внутри радиуса поиска. Изменяя эти параметры, попробуйте искать кластеры разной плотности"
      ],
      "metadata": {
        "id": "Yhc6w_-S20wO"
      },
      "id": "Yhc6w_-S20wO"
    },
    {
      "cell_type": "code",
      "source": [
        "#Your code here"
      ],
      "metadata": {
        "id": "XnfAL8594SoT"
      },
      "id": "XnfAL8594SoT",
      "execution_count": null,
      "outputs": []
    },
    {
      "cell_type": "markdown",
      "source": [
        "**Вопрос**: Как меняется количество outliers в зависимости от этих параметров?"
      ],
      "metadata": {
        "id": "H138003-T0-X"
      },
      "id": "H138003-T0-X"
    },
    {
      "cell_type": "markdown",
      "source": [
        "*Your answer here*"
      ],
      "metadata": {
        "id": "WHkk6UEcUETg"
      },
      "id": "WHkk6UEcUETg"
    },
    {
      "cell_type": "markdown",
      "id": "0608f895-4175-46a5-a09a-b38c66b8c491",
      "metadata": {
        "id": "0608f895-4175-46a5-a09a-b38c66b8c491"
      },
      "source": [
        "Метод OPTICS это модификация DBSCAN, которая предполагает, что кластеры могут иметь разную плотность, а значит и разные радиусы поиска, и пересчитывает их для кластеров"
      ]
    },
    {
      "cell_type": "markdown",
      "source": [
        "Примените [OPTICS](https://scikit-learn.org/stable/modules/generated/sklearn.cluster.OPTICS.html), визуализируйте результаты и сравните с DBSCAN"
      ],
      "metadata": {
        "id": "mMczTeeH7djD"
      },
      "id": "mMczTeeH7djD"
    },
    {
      "cell_type": "code",
      "execution_count": null,
      "id": "03e13ccd-c29f-493a-9ca8-c1d07b695e0d",
      "metadata": {
        "id": "03e13ccd-c29f-493a-9ca8-c1d07b695e0d"
      },
      "outputs": [],
      "source": [
        "#Your code here"
      ]
    },
    {
      "cell_type": "markdown",
      "id": "4547e9e2-cb07-4457-b43d-08c3aa8b8cb0",
      "metadata": {
        "id": "4547e9e2-cb07-4457-b43d-08c3aa8b8cb0"
      },
      "source": [
        "**Вопрос:** Сделайте предположение, почему результаты DBSCAN и OPTICS отличаются именно так. Обоснуйте свой ответ"
      ]
    },
    {
      "cell_type": "markdown",
      "id": "403d023a-157b-42c4-9949-116f9d69e587",
      "metadata": {
        "id": "403d023a-157b-42c4-9949-116f9d69e587"
      },
      "source": [
        "*Your answer here*"
      ]
    },
    {
      "cell_type": "markdown",
      "metadata": {
        "id": "W9iuJfM7V1AX"
      },
      "source": [
        "Теперь возьмите данные из файла Clust.txt. Используя в качестве фичей первые два столбца, визуализируйте данные и сделайте предположение об оптимальном количестве кластеров"
      ],
      "id": "W9iuJfM7V1AX"
    },
    {
      "cell_type": "code",
      "execution_count": null,
      "metadata": {
        "scrolled": true,
        "id": "CcTFGQ10V1Ab"
      },
      "outputs": [],
      "source": [
        "#Your code here"
      ],
      "id": "CcTFGQ10V1Ab"
    },
    {
      "cell_type": "markdown",
      "source": [
        "Раскрасьте данные, используя третий столбец"
      ],
      "metadata": {
        "id": "-0cP3atTV1Ab"
      },
      "id": "-0cP3atTV1Ab"
    },
    {
      "cell_type": "code",
      "source": [
        "#Your code here"
      ],
      "metadata": {
        "id": "EadbQS24V1Ac"
      },
      "execution_count": null,
      "outputs": [],
      "id": "EadbQS24V1Ac"
    },
    {
      "cell_type": "markdown",
      "source": [
        "**Вопрос:** совпадает ли это с вашей гипотезой?"
      ],
      "metadata": {
        "id": "-um065QCV1Ad"
      },
      "id": "-um065QCV1Ad"
    },
    {
      "cell_type": "markdown",
      "source": [
        "*Your answer here*"
      ],
      "metadata": {
        "id": "eoW5-JtDV1Ae"
      },
      "id": "eoW5-JtDV1Ae"
    },
    {
      "cell_type": "markdown",
      "id": "a0dfd0f0-ad99-4eb6-b422-fcf0db39d46c",
      "metadata": {
        "id": "a0dfd0f0-ad99-4eb6-b422-fcf0db39d46c"
      },
      "source": [
        "Примените к этим данным алгоритмы DBSCAN и OPTICS. Визуализируйте результат работы алгоритма. Поcчитайте метрику NMI"
      ]
    },
    {
      "cell_type": "code",
      "execution_count": null,
      "id": "d8ec2a73-801a-4ac4-99e3-3708eb3ccdcc",
      "metadata": {
        "id": "d8ec2a73-801a-4ac4-99e3-3708eb3ccdcc"
      },
      "outputs": [],
      "source": [
        "#Your code here"
      ]
    },
    {
      "cell_type": "markdown",
      "id": "4fb3afae-2e45-475d-b6d6-11dc1dac5818",
      "metadata": {
        "id": "4fb3afae-2e45-475d-b6d6-11dc1dac5818"
      },
      "source": [
        "**Вопрос:** Получилось ли улучшить результаты с помощью метода OPTICS?"
      ]
    },
    {
      "cell_type": "markdown",
      "id": "5006e0a8-53c8-426e-be5c-7b2721439911",
      "metadata": {
        "id": "5006e0a8-53c8-426e-be5c-7b2721439911"
      },
      "source": [
        "*Your answer here*"
      ]
    },
    {
      "cell_type": "markdown",
      "metadata": {
        "id": "d7c25c52"
      },
      "source": [
        "## Задача 3"
      ],
      "id": "d7c25c52"
    },
    {
      "cell_type": "markdown",
      "metadata": {
        "id": "88bef578"
      },
      "source": [
        "В этой задаче вы познакомитесь с иерархической кластеризацией. До этого вы работали с готовыми методами, которые опираются на предположение о возможной структуре данных. Иерархический подход напротив, позволяет в некотором смысле посмотреть на структуру данных и сделать предположение о числе кластеров"
      ],
      "id": "88bef578"
    },
    {
      "cell_type": "markdown",
      "metadata": {
        "id": "d053b562"
      },
      "source": [
        "### Знакомство с дендрограммой"
      ],
      "id": "d053b562"
    },
    {
      "cell_type": "markdown",
      "metadata": {
        "id": "150bc266"
      },
      "source": [
        "Иерархический подход заключается в построении дендрограммы на основе матрицы расстояний (linkage): дерево, визуализирующее расстояния между точками и возможными кластерами. Подробнее [здесь](https://www.geeksforgeeks.org/python/scipy-cluster-hierarchy-dendrogram/)"
      ],
      "id": "150bc266"
    },
    {
      "cell_type": "markdown",
      "metadata": {
        "id": "4b02908c"
      },
      "source": [
        "Подключите необходимые методы"
      ],
      "id": "4b02908c"
    },
    {
      "cell_type": "code",
      "execution_count": null,
      "metadata": {
        "id": "f6a61921"
      },
      "outputs": [],
      "source": [
        "from scipy.cluster.hierarchy import dendrogram, linkage"
      ],
      "id": "f6a61921"
    },
    {
      "cell_type": "markdown",
      "metadata": {
        "id": "22447afb"
      },
      "source": [
        "Считайте данные из файла ClustNorm"
      ],
      "id": "22447afb"
    },
    {
      "cell_type": "code",
      "execution_count": null,
      "metadata": {
        "id": "865521e0"
      },
      "outputs": [],
      "source": [
        "# Your code here"
      ],
      "id": "865521e0"
    },
    {
      "cell_type": "markdown",
      "metadata": {
        "id": "6450a689"
      },
      "source": [
        "Посчитайте матрицу расстояний linkage и постройте дендрограмму"
      ],
      "id": "6450a689"
    },
    {
      "cell_type": "code",
      "execution_count": null,
      "metadata": {
        "id": "24d2d4d3"
      },
      "outputs": [],
      "source": [
        "# Your code here"
      ],
      "id": "24d2d4d3"
    },
    {
      "cell_type": "markdown",
      "metadata": {
        "id": "c124179d"
      },
      "source": [
        "**Вопрос:** Сколько кластеров вы можете выделить на дендрограмме? Совпадает ли это с количеством классов в файле ClustNorm-label?"
      ],
      "id": "c124179d"
    },
    {
      "cell_type": "markdown",
      "metadata": {
        "id": "b12fb6e0"
      },
      "source": [
        "\n",
        "\n",
        "*Your answer here*"
      ],
      "id": "b12fb6e0"
    },
    {
      "cell_type": "markdown",
      "metadata": {
        "id": "32df72d5"
      },
      "source": [
        "Способ подсчёта расстояния в функции linkage можно изменить с помощью параметра *metric*, а за условие объединения кластеров отвечает параметр *method*.\n",
        "\n",
        "Ознакомьтесь в [документации](https://docs.scipy.org/doc/scipy/reference/generated/scipy.cluster.hierarchy.linkage.html) с возможными значениями параметров *metric* и *method*, постройте несколько дендрограмм с понравившимися вам вариантами"
      ],
      "id": "32df72d5"
    },
    {
      "cell_type": "code",
      "execution_count": null,
      "metadata": {
        "id": "b5e7babd"
      },
      "outputs": [],
      "source": [
        "# Your code here"
      ],
      "id": "b5e7babd"
    },
    {
      "cell_type": "markdown",
      "metadata": {
        "id": "0bb05005"
      },
      "source": [
        "**Вопрос:** На какой дендрограмме разделение на кластеры наиболее наглядно? Сделайте предположение почему?"
      ],
      "id": "0bb05005"
    },
    {
      "cell_type": "markdown",
      "metadata": {
        "id": "e53d17e5"
      },
      "source": [
        "*Your answer here*"
      ],
      "id": "e53d17e5"
    },
    {
      "cell_type": "markdown",
      "metadata": {
        "id": "cea6b0a6"
      },
      "source": [
        "### Использование Дендрограммы для кластеризации"
      ],
      "id": "cea6b0a6"
    },
    {
      "cell_type": "markdown",
      "source": [
        "Как вы убедились выше, дендрограмму можно использовать для предположения о количестве кластеров. Для реализации иерархической кластеризации можно использовать метод [Agglomerative Clustering](https://scikit-learn.org/stable/modules/generated/sklearn.cluster.AgglomerativeClustering.html), который использует дендрограмму для объединения данных в кластеры"
      ],
      "metadata": {
        "id": "D15VfMRH_HKG"
      },
      "id": "D15VfMRH_HKG"
    },
    {
      "cell_type": "markdown",
      "metadata": {
        "id": "5SgmlUSmShpg"
      },
      "source": [
        "Примените метод Agglomerative Clustering с параметрами наилучшей дендрограммы, которую вы получили выше. Посчитайте метрику NMI"
      ],
      "id": "5SgmlUSmShpg"
    },
    {
      "cell_type": "code",
      "source": [
        "#Your code here"
      ],
      "metadata": {
        "id": "1b9-SK9sB4el"
      },
      "id": "1b9-SK9sB4el",
      "execution_count": null,
      "outputs": []
    },
    {
      "cell_type": "markdown",
      "source": [
        "### Метрики"
      ],
      "metadata": {
        "id": "hw-PvClqJNQv"
      },
      "id": "hw-PvClqJNQv"
    },
    {
      "cell_type": "markdown",
      "source": [
        "Вообще оценить качество кластеризации мы можем только если проверяем гипотезу о том, что данные разделимы на какие-то известные нам классы. То есть известны истинные метки классов\n",
        "\n",
        "В этом случае нам интересны две вещи:\n",
        "1. В одном кластере находятся точки только из одного класса ([Homogeneity](https://scikit-learn.org/stable/modules/generated/sklearn.metrics.homogeneity_score.html))\n",
        "2. Точки одного класса попадают целиком в один кластер ([Completeness](https://scikit-learn.org/stable/modules/generated/sklearn.metrics.completeness_score.html))\n",
        "\n",
        "Данные метрики имеют имеют схожий подход с метриками классификации Precision и Recall соотвественно\n",
        "\n",
        "Чтобы смотреть на ситуацию в целом, используется среднее гармоническое этих величин, она же [V-measure](https://scikit-learn.org/stable/modules/generated/sklearn.metrics.v_measure_score.html), что соотвествует F-score, при этом, конечно, можно выбирать, какой из метрик отдается большее предпочтение (параметр *beta*). Дефолтная NMI соотвествует V-meausre с $beta=1$"
      ],
      "metadata": {
        "id": "oedMCRGkIzjW"
      },
      "id": "oedMCRGkIzjW"
    },
    {
      "cell_type": "markdown",
      "source": [
        "Теперь посмотрите, как меняются предложенные метрики на методе Agglomerative Clustering при разном количестве кластеров (большем, меньшем и равном количеству классов)"
      ],
      "metadata": {
        "id": "jyXqII5jHS0w"
      },
      "id": "jyXqII5jHS0w"
    },
    {
      "cell_type": "code",
      "source": [
        "#Your code here"
      ],
      "metadata": {
        "id": "5ZgwcPO5HQDp"
      },
      "id": "5ZgwcPO5HQDp",
      "execution_count": null,
      "outputs": []
    },
    {
      "cell_type": "markdown",
      "source": [
        "**Вопрос:** Как меняются метрики в зависимости от количества кластеров? Обоснуйте, почему так происходит"
      ],
      "metadata": {
        "id": "YnS_rNOzOaSw"
      },
      "id": "YnS_rNOzOaSw"
    },
    {
      "cell_type": "markdown",
      "source": [
        "*Your answer here*"
      ],
      "metadata": {
        "id": "1D6QMimJOrnN"
      },
      "id": "1D6QMimJOrnN"
    },
    {
      "cell_type": "markdown",
      "metadata": {
        "id": "oRJmXxyPTrtg"
      },
      "source": [
        "Посмотрите, что будет с метриками, если перемешать предсказанные метки"
      ],
      "id": "oRJmXxyPTrtg"
    },
    {
      "cell_type": "code",
      "source": [
        "#Your code here"
      ],
      "metadata": {
        "id": "w-ZVvITkNbS6"
      },
      "id": "w-ZVvITkNbS6",
      "execution_count": null,
      "outputs": []
    },
    {
      "cell_type": "markdown",
      "source": [
        "**Вопрос:** Как изменились метрики? Обоснуйте результат"
      ],
      "metadata": {
        "id": "yJlX3XKyOwBo"
      },
      "id": "yJlX3XKyOwBo"
    },
    {
      "cell_type": "markdown",
      "metadata": {
        "id": "ZiOb_SERX-7T"
      },
      "source": [
        "*Your answer here*"
      ],
      "id": "ZiOb_SERX-7T"
    },
    {
      "cell_type": "markdown",
      "metadata": {
        "id": "34cd8d96"
      },
      "source": [
        "## Задача 4"
      ],
      "id": "34cd8d96"
    },
    {
      "cell_type": "markdown",
      "metadata": {
        "id": "7b8e21e7"
      },
      "source": [
        "В файлах houses.txt содержатся данные о координатах домов в Братиславе. Попробуйте разные алгоритмы кластеризации, найдите тот, что дает наилучший результат"
      ],
      "id": "7b8e21e7"
    },
    {
      "cell_type": "code",
      "execution_count": null,
      "metadata": {
        "id": "ca61f4cb"
      },
      "outputs": [],
      "source": [
        "#Your code here"
      ],
      "id": "ca61f4cb"
    },
    {
      "cell_type": "markdown",
      "source": [
        "**Вопрос:** Обоснуйте свой выбор и полученный результат"
      ],
      "metadata": {
        "id": "oDVrLP4DP9uU"
      },
      "id": "oDVrLP4DP9uU"
    },
    {
      "cell_type": "markdown",
      "source": [
        "*Your answer here*"
      ],
      "metadata": {
        "id": "4Q-76vMVP-L-"
      },
      "id": "4Q-76vMVP-L-"
    }
  ],
  "metadata": {
    "colab": {
      "provenance": []
    },
    "kernelspec": {
      "display_name": "Python 3 (ipykernel)",
      "language": "python",
      "name": "python3"
    },
    "language_info": {
      "codemirror_mode": {
        "name": "ipython",
        "version": 3
      },
      "file_extension": ".py",
      "mimetype": "text/x-python",
      "name": "python",
      "nbconvert_exporter": "python",
      "pygments_lexer": "ipython3",
      "version": "3.10.12"
    }
  },
  "nbformat": 4,
  "nbformat_minor": 5
}