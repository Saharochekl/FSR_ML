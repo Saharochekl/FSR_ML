{
 "cells": [
  {
   "cell_type": "markdown",
   "metadata": {
    "id": "flwxBJKCbLVy"
   },
   "source": [
    "# Dimensionality Reduction (PCA, KernelPCA, LDA, Correlation Analysis)"
   ]
  },
  {
   "cell_type": "markdown",
   "metadata": {
    "id": "RDwEEtTkr9Wn"
   },
   "source": [
    "**Исполнители (ФИО):** Буканов Иван, Макеев Максим\n",
    "\n",
    "---"
   ]
  },
  {
   "cell_type": "markdown",
   "metadata": {
    "id": "z4yiEDmKsyje"
   },
   "source": [
    "Здравствуйте! На этом семинаре вы познакомитесь с новыми методами решения задачи понижения размерности: Метод Главных Компонент (PCA) и его ядерная вариация (KernelPCA), а также примените уже известные вам методы Линейный Дискриминантный Анализ (LDA) и Корреляционный Анализ"
   ]
  },
  {
   "cell_type": "code",
   "metadata": {
    "id": "ND0AWB6gYPOQ",
    "ExecuteTime": {
     "end_time": "2025-10-10T12:01:37.583577Z",
     "start_time": "2025-10-10T12:01:37.581999Z"
    }
   },
   "source": [
    "import numpy as np\n",
    "import pandas as pd\n",
    "import matplotlib.pyplot as plt"
   ],
   "outputs": [],
   "execution_count": 1
  },
  {
   "cell_type": "markdown",
   "metadata": {
    "id": "vc6BB9hYVynC"
   },
   "source": [
    "**Полезные ссылки:**\n",
    "\n",
    "[Построение BiPlot для PCA](https://sukhbinder.wordpress.com/2015/08/05/biplot-with-python/)\n",
    "\n",
    "[Матрица частных корреляций](https://pingouin-stats.org/build/html/generated/pingouin.pcorr.html)\n",
    "\n",
    "[Графики попарных соотношений между фичами в датасете](https://seaborn.pydata.org/generated/seaborn.pairplot.html)\n",
    "\n",
    "[Сравнение PCA и Kernel PCA](https://scikit-learn.org/stable/auto_examples/decomposition/plot_kernel_pca.html)"
   ]
  },
  {
   "cell_type": "markdown",
   "metadata": {
    "id": "sXOJOfxPZbW2"
   },
   "source": [
    "## Задача 1"
   ]
  },
  {
   "cell_type": "markdown",
   "metadata": {
    "id": "kSzelsuJZguL"
   },
   "source": [
    "В этой задаче вам предстоит сравнить два классических подхода для уменьшения размерности - Наивный Корреляционный Анализ и Метод Главных Компонент (PCA)\n",
    "\n",
    "Загрузите датасет drug200.csv"
   ]
  },
  {
   "cell_type": "code",
   "execution_count": null,
   "metadata": {
    "id": "cVNaPQIjcBdm"
   },
   "outputs": [],
   "source": [
    "# Your code here"
   ]
  },
  {
   "cell_type": "markdown",
   "metadata": {
    "id": "umSeyGAscBIY"
   },
   "source": [
    "Как вы помните из курса АнДана, если в модели есть зависимые параметры, мы можем попробовать убрать один из них, тем самым понизив размерность, однако это работает не всегда. Используя матрицу корреляций, попробуйте понизить размерность данных. Если возможно, визуализируйте полученные данные"
   ]
  },
  {
   "cell_type": "code",
   "execution_count": null,
   "metadata": {
    "id": "xMA6z-06dfZH"
   },
   "outputs": [],
   "source": [
    "# Your code here"
   ]
  },
  {
   "cell_type": "markdown",
   "metadata": {
    "id": "TmWA7IjQdf85"
   },
   "source": [
    "**Вопрос:** Какие фичи убрали и почему?\n",
    "\n",
    "Your answer here"
   ]
  },
  {
   "cell_type": "markdown",
   "metadata": {
    "id": "VJW4W8g4d0RL"
   },
   "source": [
    "Не наивный подход для уменьшения размерности заключается в построении нового базиса на основе данных таким образом, чтобы максимизировать «информацию» базисных векторов на каждом шаге построения\n",
    "\n",
    "Одним из таких вариантов построения является Метод Главных Компонент (PCA), который сохраняет вариацию в данных. Этот метод также позволяет посмотреть долю объясненной дисперсии векторов нового базиса, чтобы оценить, сколько «информации» сохранилось\n",
    "\n",
    "Теперь попробуйте понизить размерность данных с помощью [PCA](https://scikit-learn.org/stable/modules/generated/sklearn.decomposition.PCA.html). Если возможно, визуализируйте полученные данные"
   ]
  },
  {
   "cell_type": "code",
   "execution_count": null,
   "metadata": {
    "id": "NWiEJibwkMSp"
   },
   "outputs": [],
   "source": [
    "# Your code here"
   ]
  },
  {
   "cell_type": "markdown",
   "metadata": {
    "id": "g4R68gZ_kPoA"
   },
   "source": [
    "**Вопрос:** Сколько векторов нового базиса вы взяли для уменьшения размерности? Как много информации вы потеряли?\n",
    "\n",
    "Your answer here"
   ]
  },
  {
   "cell_type": "markdown",
   "metadata": {
    "id": "IVpCzEd-lALP"
   },
   "source": [
    "Теперь сравните качество классификации Логистической регрессии на трех полученных датасетах: исходный и два варианта понижения размерности"
   ]
  },
  {
   "cell_type": "code",
   "execution_count": null,
   "metadata": {
    "id": "uKuJTL_VlYDU"
   },
   "outputs": [],
   "source": [
    "# Your code here"
   ]
  },
  {
   "cell_type": "markdown",
   "metadata": {
    "id": "BF76Q_PolYlx"
   },
   "source": [
    "**Вопрос:** Как понижение размерности повлияло на качество классификации? Как вы думаете, почему?\n",
    "\n",
    "Your answer here"
   ]
  },
  {
   "cell_type": "markdown",
   "metadata": {
    "id": "QiLHS6IzutCI"
   },
   "source": [
    "## Задача 2"
   ]
  },
  {
   "cell_type": "markdown",
   "metadata": {
    "id": "2HYNqUT65jZb"
   },
   "source": [
    "Для визуализации данных строят график в пространстве 2-х главных компонент. При этом можно использовать так называемый BiPlot, позволяющий получить больше информации, чем просто двумерный\n",
    "график. BiPlot, помимо того, что отображает проекции данных в пространстве новых фичей на две главные компоненты, также добавляет проекции векторов исходных фичей, что позволяет увидеть их вклад в главные компоненты (оси координат в BiPlot)\n",
    "\n",
    "Визуализируйте [BiPlot](https://sukhbinder.wordpress.com/2015/08/05/biplot-with-python/) на данных из предыдущей задачи"
   ]
  },
  {
   "cell_type": "code",
   "execution_count": null,
   "metadata": {
    "id": "_CTYuBb944ic"
   },
   "outputs": [],
   "source": [
    "# Your code here"
   ]
  },
  {
   "cell_type": "markdown",
   "metadata": {
    "id": "eEIupMTf8aDC"
   },
   "source": [
    "**Вопрос:** Опишите вклад исходных фичей в две главные компоненты\n",
    "\n",
    "Your answer here"
   ]
  },
  {
   "cell_type": "markdown",
   "metadata": {
    "id": "Et5Esop78j0n"
   },
   "source": [
    "Теперь загрузите датасет о вине [load_wine](https://scikit-learn.org/1.7/modules/generated/sklearn.datasets.load_wine.html). Примените к нему понижение размерности и постройте BiPlot"
   ]
  },
  {
   "cell_type": "code",
   "execution_count": null,
   "metadata": {
    "id": "huIGl49n9-ud"
   },
   "outputs": [],
   "source": [
    "# Your code here"
   ]
  },
  {
   "cell_type": "markdown",
   "metadata": {
    "id": "b2TC53Oe9_i5"
   },
   "source": [
    "BiPlot может быть полезен, чтобы сделать некоторые предроложения о взаимосвязи исходых параметрами и классов. Например, угол между исходными параметрами в первом приближении отражает степень их зависимости, а направление вектора может говорить о том, что точки, лежащие близ него имеют большее значение по данному параметру. Однако, так как на BiPlot мы работаем с проекцией только на две компоненты, эти соотношения могут выполняться не всегда.\n",
    "\n",
    "Проверьте, выполняются ли какие-либо соотношения для каких-то параметров в вашем случае."
   ]
  },
  {
   "cell_type": "code",
   "execution_count": null,
   "metadata": {
    "id": "wUfaYIkrFusm"
   },
   "outputs": [],
   "source": [
    "# Your code here"
   ]
  },
  {
   "cell_type": "markdown",
   "metadata": {
    "id": "olKaiuuIFusn"
   },
   "source": [
    "**Вопрос:** Получилось ли извлечь какую-то дополнительную информацию из BiPlot? Если да, то какую?\n",
    "\n",
    "Your answer here"
   ]
  },
  {
   "cell_type": "markdown",
   "metadata": {
    "id": "jxpdA5M_5fB2"
   },
   "source": [
    "## Задача 3"
   ]
  },
  {
   "cell_type": "markdown",
   "metadata": {
    "id": "nYRa_MDcFusn"
   },
   "source": [
    "Помимо классического PCA есть и другие способы понижать размерность. Для начала давайте рассмотрим уже известный вам Линейный дискриминантный анализ (LDA), он позволяет не только решать задачу классификации, но и понижать размерность.\n",
    "\n",
    "Как вы помните из лекции, LDA максимизирует межклассовую вариацию и минимизирует внутриклассовую вариацию, то есть последовательно строит базис такой, чтобы на каждом шаге направление вдоль базисного вектора максимизировало «расстояние» между классами.\n",
    "\n",
    "\n",
    "Загрузите датасет [breast_cancer](https://scikit-learn.org/1.7/modules/generated/sklearn.datasets.load_breast_cancer.html) и попробуйте понизить размерность с помощью [LDA](https://scikit-learn.org/stable/modules/generated/sklearn.discriminant_analysis.LinearDiscriminantAnalysis.html)"
   ]
  },
  {
   "cell_type": "code",
   "metadata": {
    "ExecuteTime": {
     "end_time": "2025-10-10T12:28:39.697687Z",
     "start_time": "2025-10-10T12:28:39.694528Z"
    }
   },
   "source": [
    "import sklearn\n",
    "from sklearn.datasets import load_breast_cancer \n",
    "from sklearn.discriminant_analysis import LinearDiscriminantAnalysis\n",
    "from sklearn.model_selection import train_test_split\n"
   ],
   "outputs": [],
   "execution_count": 12
  },
  {
   "metadata": {
    "id": "UMkwja_wFusn",
    "ExecuteTime": {
     "end_time": "2025-10-10T12:31:20.347620Z",
     "start_time": "2025-10-10T12:31:20.295302Z"
    }
   },
   "cell_type": "code",
   "source": [
    "data = load_breast_cancer()\n",
    "X = data.data\n",
    "y = data.target\n",
    "\n",
    "X_train, X_test, y_train, y_test = train_test_split(X, y, test_size=0.3, random_state=52)\n",
    "\n",
    "lda = LinearDiscriminantAnalysis(n_components=1)\n",
    "\n",
    "lda.fit(X_train, y_train)\n",
    "\n",
    "X_train_lda = lda.transform(X_train)\n",
    "X_test_lda = lda.transform(X_test)\n",
    "\n",
    "print(\"Исходная размерность:\", X_train.shape)\n",
    "print(\"размерность после LDA:\", X_train_lda.shape)\n",
    "\n",
    "\n",
    "plt.hist(X_train_lda[y_train == 0], alpha=0.5, label='class 0')\n",
    "plt.hist(X_train_lda[y_train == 1], alpha=0.5, label='class 1')\n",
    "plt.legend()\n",
    "plt.show()"
   ],
   "outputs": [
    {
     "name": "stdout",
     "output_type": "stream",
     "text": [
      "Исходная размерность: (398, 30)\n",
      "размерность после LDA: (398, 1)\n"
     ]
    },
    {
     "data": {
      "text/plain": [
       "<Figure size 640x480 with 1 Axes>"
      ],
      "image/png": "[encoded data removed]"
     },
     "metadata": {},
     "output_type": "display_data"
    }
   ],
   "execution_count": 14
  },
  {
   "cell_type": "markdown",
   "metadata": {
    "id": "o88tdB4mFusn"
   },
   "source": [
    "**Вопрос:**\n",
    " Сколько векторов получилось в новом базисе, какие из них вы взяли и почему?\n",
    "1 из 1"
   ]
  },
  {
   "cell_type": "markdown",
   "metadata": {
    "id": "qhlOT3NDFusn"
   },
   "source": [
    "Как вы помните из прошлого семинара, в случае сложной топологии данных, бывает полезно применить ядро, которое позволяет нам перейти в новое пространство, в котором данные становястя ближе к линейно разделимым. Аналогично для PCA есть его ядерная модификация - [Kernel PCA](https://scikit-learn.org/stable/modules/generated/sklearn.decomposition.KernelPCA.html). Однако так как мы совершали переход в новое пространство, для Ядерного PCA BiPlot построить не получится."
   ]
  },
  {
   "cell_type": "markdown",
   "source": [
    "**Вопрос:** Как вы думаете, почему не получится построить BiPlot для Kernel PCA?\n",
    "\n",
    "потому что в Kernel PCA (неявно) данные проецируются в высокоразмерное пространство через ядро, и связи с исходными признаками теряются — нельзя просто взять “коэффициенты” признаков, как в линейной PCA, чтобы отобразить их в BiPlot."
   ],
   "metadata": {
    "id": "9l6BEXtExPNE"
   }
  },
  {
   "cell_type": "markdown",
   "source": [
    "Теперь попробуйте применить Ядерный PCA с нелинейным ядром, чтобы понизить размерность"
   ],
   "metadata": {
    "id": "7C3NKzXXxPoT"
   }
  },
  {
   "cell_type": "code",
   "metadata": {
    "id": "U-RlJiDPFuso",
    "ExecuteTime": {
     "end_time": "2025-10-10T13:21:12.848782Z",
     "start_time": "2025-10-10T13:21:12.766816Z"
    }
   },
   "source": [
    "from sklearn.decomposition import PCA, KernelPCA\n",
    "\n",
    "kpca = KernelPCA(   n_components=4,         # уменьшаем до 2 компонент\n",
    "                 kernel='poly',            # ядро: rbf, poly, sigmoid и др.\n",
    "                  gamma=1,                # параметр ядра\n",
    "                 degree=3,\n",
    "                 fit_inverse_transform=False,  # обратное преобразование\n",
    "                 remove_zero_eig=True)\n",
    "\n",
    "X_train_kpca = kpca.fit_transform(X_train)\n",
    "X_test_kpca = kpca.transform(X_test)\n",
    "\n",
    "print(\"Исходная размерность:\", X_train.shape)\n",
    "print(\"После Kernel PCA:\", X_train_kpca.shape)\n",
    "\n",
    "if X_train_kpca.shape[1] >= 2:\n",
    "    plt.figure(figsize=(6, 5))\n",
    "    for cls in [0, 1]:\n",
    "        plt.scatter(X_train_kpca[y_train == cls, 0],\n",
    "                    X_train_kpca[y_train == cls, 1],\n",
    "                    label=f\"class {cls}\", alpha=0.6)\n",
    "    plt.xlabel(\"KPCA comp 1\")\n",
    "    plt.ylabel(\"KPCA comp 2\")\n",
    "    plt.legend()\n",
    "    plt.title(\"Kernel PCA проекция (train)\")\n",
    "    plt.show()\n",
    "else:\n",
    "    # одномерный случай — гистограмма\n",
    "    plt.hist(X_train_kpca[y_train == 0], alpha=0.5, label='class 0')\n",
    "    plt.hist(X_train_kpca[y_train == 1], alpha=0.5, label='class 1')\n",
    "    plt.legend()\n",
    "    plt.title(\"Kernel PCA одномерная проекция\")\n",
    "    plt.show()"
   ],
   "outputs": [
    {
     "name": "stdout",
     "output_type": "stream",
     "text": [
      "Исходная размерность: (398, 30)\n",
      "После Kernel PCA: (398, 4)\n"
     ]
    },
    {
     "data": {
      "text/plain": [
       "<Figure size 600x500 with 1 Axes>"
      ],
      "image/png": "[encoded data removed]"
     },
     "metadata": {},
     "output_type": "display_data"
    }
   ],
   "execution_count": 45
  },
  {
   "cell_type": "markdown",
   "metadata": {
    "id": "rsWcNf0gFuso"
   },
   "source": [
    "**Вопрос:** Сколько векторов получилось в новом базисе, какие из них вы взяли и почему?\n",
    "\n",
    "Взяли те два собственных вектора ядровой матрицы, у которых наибольшие собственные значения (то есть они объясняют наибольшую долю “вариации” в ядровом пространстве)."
   ]
  },
  {
   "cell_type": "markdown",
   "metadata": {
    "id": "3yHRZPFjFuso"
   },
   "source": [
    "Теперь сравните качество классификации Логистической регрессии на всех полученных датасетах: исходный и с понижением размерности (PCA, Kernel PCA, LDA)"
   ]
  },
  {
   "cell_type": "code",
   "metadata": {
    "id": "H-p8mGYKFuso",
    "ExecuteTime": {
     "end_time": "2025-10-10T13:21:15.213421Z",
     "start_time": "2025-10-10T13:21:15.144749Z"
    }
   },
   "source": [
    "from sklearn.linear_model import LogisticRegression\n",
    "from sklearn.metrics import accuracy_score, roc_auc_score\n",
    "\n",
    "pca = PCA(n_components=2)\n",
    "X_train_pca = pca.fit_transform(X_train)\n",
    "X_test_pca = pca.transform(X_test)\n",
    "\n",
    "def eval_logreg(X_tr, X_te, y_tr, y_te):\n",
    "    model = LogisticRegression(max_iter=1000)  \n",
    "    model.fit(X_tr, y_tr)\n",
    "    y_pred = model.predict(X_te)\n",
    "    y_proba = model.predict_proba(X_te)[:, 1]\n",
    "    acc = accuracy_score(y_te, y_pred)\n",
    "    auc = roc_auc_score(y_te, y_proba)\n",
    "    return acc, auc\n",
    "\n",
    "results = {}\n",
    "\n",
    "results[\"Исходные\"] = eval_logreg(X_train, X_test, y_train, y_test)\n",
    "results[\"PCA\"] = eval_logreg(X_train_pca, X_test_pca, y_train, y_test)\n",
    "results[\"Kernel PCA\"] = eval_logreg(X_train_kpca, X_test_kpca, y_train, y_test)\n",
    "results[\"LDA\"] = eval_logreg(X_train_lda, X_test_lda, y_train, y_test)\n",
    "\n",
    "for k, (acc, auc) in results.items():\n",
    "    print(f\"{k}: Accuracy = {acc:.4f}, AUC = {auc:.4f}\")\n"
   ],
   "outputs": [
    {
     "name": "stdout",
     "output_type": "stream",
     "text": [
      "Исходные: Accuracy = 0.9649, AUC = 0.9931\n",
      "PCA: Accuracy = 0.9532, AUC = 0.9885\n",
      "Kernel PCA: Accuracy = 0.9006, AUC = 0.9449\n",
      "LDA: Accuracy = 0.9825, AUC = 0.9939\n"
     ]
    },
    {
     "name": "stderr",
     "output_type": "stream",
     "text": [
      "/Users/zuha/miniconda3/lib/python3.12/site-packages/sklearn/linear_model/_logistic.py:473: ConvergenceWarning: lbfgs failed to converge after 1000 iteration(s) (status=1):\n",
      "STOP: TOTAL NO. OF ITERATIONS REACHED LIMIT\n",
      "\n",
      "Increase the number of iterations to improve the convergence (max_iter=1000).\n",
      "You might also want to scale the data as shown in:\n",
      "    https://scikit-learn.org/stable/modules/preprocessing.html\n",
      "Please also refer to the documentation for alternative solver options:\n",
      "    https://scikit-learn.org/stable/modules/linear_model.html#logistic-regression\n",
      "  n_iter_i = _check_optimize_result(\n"
     ]
    }
   ],
   "execution_count": 46
  },
  {
   "cell_type": "markdown",
   "metadata": {
    "id": "Bj_QN86YFuso"
   },
   "source": [
    "**Вопрос:** Как понижение размерности повлияло на качество классификации? Какой вариант понижения размерности оказался наиболее эффективен? Как вы думаете, почему?\n",
    "\n",
    "Your answer here"
   ]
  },
  {
   "cell_type": "markdown",
   "metadata": {
    "id": "UATWm2uUv6K5"
   },
   "source": [
    "## Задача 4"
   ]
  },
  {
   "cell_type": "markdown",
   "metadata": {
    "id": "QP-CH5TQv7s4"
   },
   "source": [
    "Загрузите набор данных [digits](https://scikit-learn.org/1.7/modules/generated/sklearn.datasets.load_digits.html)\n",
    "1. Попробуйте понизить размерность датасета так, чтобы его можно было отрисовать\n",
    "2. Попробуйте объединить несколько подходов понижения размерности данных\n",
    "3. Попробуйте добиться наилучшего соотношения между количеством фичей и качеством классификации, обоснуйте свой выбор\n"
   ]
  },
  {
   "cell_type": "code",
   "execution_count": null,
   "metadata": {
    "id": "2m7IHxOz45mt"
   },
   "outputs": [],
   "source": [
    "# Your code here"
   ]
  }
 ],
 "metadata": {
  "colab": {
   "provenance": []
  },
  "kernelspec": {
   "display_name": "Python 3 (ipykernel)",
   "name": "python3",
   "language": "python"
  },
  "language_info": {
   "name": "python"
  }
 },
 "nbformat": 4,
 "nbformat_minor": 0
}
